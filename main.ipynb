{
  "cells": [
    {
      "cell_type": "code",
      "execution_count": null,
      "metadata": {
        "colab": {
          "base_uri": "https://localhost:8080/"
        },
        "id": "DypGp1RXVtia",
        "outputId": "cef26d57-1d5d-417c-fc0e-326b05688db0"
      },
      "outputs": [],
      "source": [
        "################ IMPORTS ################\n",
        "import torch as pt\n",
        "import numpy as np\n",
        "import matplotlib.pyplot as plt\n",
        "import pandas as pd\n",
        "#########################################\n"
      ]
    },
    {
      "cell_type": "code",
      "execution_count": null,
      "metadata": {
        "id": "4O7RBPpianZY"
      },
      "outputs": [],
      "source": [
        "################ Initialising ################\n",
        "\n",
        "def openSet(filename: str, type: str) -> pd.DataFrame:\n",
        "  return pd.read_csv(filename + \".\" + type.lower())\n",
        "\n",
        "##############################################"
      ]
    },
    {
      "cell_type": "code",
      "execution_count": null,
      "metadata": {
        "colab": {
          "base_uri": "https://localhost:8080/",
          "height": 356
        },
        "id": "cn99Qp2CV7KP",
        "outputId": "a585c5df-2e21-4c55-ad7a-17bf753c8271"
      },
      "outputs": [],
      "source": [
        "################ Data Cleaning ################\n",
        "\n",
        "###############################################"
      ]
    },
    {
      "cell_type": "code",
      "execution_count": null,
      "metadata": {
        "id": "UrR7juJ1WL25"
      },
      "outputs": [],
      "source": [
        "################ Data Feature Selection #############\n",
        "\n",
        "#####################################################"
      ]
    },
    {
      "cell_type": "code",
      "execution_count": null,
      "metadata": {
        "id": "KONij7ibWd4T"
      },
      "outputs": [],
      "source": [
        "################ Model Training ################\n",
        "\n",
        "################################################"
      ]
    },
    {
      "cell_type": "code",
      "execution_count": null,
      "metadata": {
        "id": "kXF0xNPIWgRt"
      },
      "outputs": [],
      "source": [
        "################ Performance Metrics ################\n",
        "\n",
        "#####################################################"
      ]
    },
    {
      "cell_type": "code",
      "execution_count": null,
      "metadata": {
        "id": "z313aSWRWosE"
      },
      "outputs": [],
      "source": [
        "################ Model Testing ################\n",
        "\n",
        "###############################################"
      ]
    },
    {
      "cell_type": "code",
      "execution_count": null,
      "metadata": {
        "id": "l0UqkEuYWlOt"
      },
      "outputs": [],
      "source": [
        "################ Model Evaluation ################\n",
        "\n",
        "##################################################"
      ]
    }
  ],
  "metadata": {
    "colab": {
      "provenance": []
    },
    "kernelspec": {
      "display_name": "Python 3",
      "name": "python3"
    },
    "language_info": {
      "name": "python"
    }
  },
  "nbformat": 4,
  "nbformat_minor": 0
}
